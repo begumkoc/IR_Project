{
 "cells": [
  {
   "cell_type": "code",
   "metadata": {},
   "source": [
    "import pyterrier as pt\n",
    "import pandas as pd\n",
    "import numpy as np\n",
    "from pyterrier.measures import RR, nDCG, MAP\n",
    "\n",
    "import nlpaug.augmenter.char as nac\n",
    "import nlpaug.augmenter.word as naw\n",
    "import nlpaug.augmenter.sentence as nas\n",
    "import nlpaug.flow as naf\n",
    "\n",
    "from nlpaug.util import Action\n",
    "\n",
    "from common_helpers import *\n",
    "from plotting_helpers import *"
   ],
   "outputs": [],
   "execution_count": null
  },
  {
   "metadata": {},
   "cell_type": "code",
   "source": [
    "dataset_path = \"irds:beir/fiqa\"\n",
    "dataset = pt.get_dataset(dataset_path)\n",
    "testset = pt.get_dataset(dataset_path + \"/test\")\n",
    "test_queries = testset.get_topics()"
   ],
   "outputs": [],
   "execution_count": null
  },
  {
   "cell_type": "code",
   "metadata": {},
   "source": [
    "# Indexing documents\n",
    "from pathlib import Path\n",
    "\n",
    "indexer = pt.IterDictIndexer(\n",
    "    str(Path.cwd()),  # this will be ignored\n",
    "    type=pt.index.IndexingType.MEMORY,\n",
    ")\n",
    "index_ref = indexer.index(dataset.get_corpus_iter())"
   ],
   "outputs": [],
   "execution_count": null
  },
  {
   "metadata": {},
   "cell_type": "code",
   "source": [
    "bm25 = pt.terrier.Retriever(index_ref, wmodel=\"BM25\")\n",
    "dir = pt.terrier.Retriever(index_ref, wmodel=\"DirichletLM\")\n",
    "pl2 = pt.terrier.Retriever(index_ref, wmodel=\"PL2\")\n",
    "dfree = pt.terrier.Retriever(index_ref, wmodel=\"DFReeKLIM\")\n",
    "\n",
    "models = [bm25, dfree, pl2, dir]\n",
    "metrics = [RR @ 10, nDCG @ 10, MAP @ 100]\n",
    "noise_levels = np.arange(0.0, 1.1, 0.1)"
   ],
   "outputs": [],
   "execution_count": null
  },
  {
   "cell_type": "code",
   "metadata": {},
   "source": [
    "random_val_per_noise = pd.concat([\n",
    "        run_noise_experiment(test_queries, testset,\n",
    "                             nac.OcrAug(aug_char_p=0.25, aug_word_p=noise_level, aug_word_min=0, aug_word_max=500000),\n",
    "                             models, metrics).assign(noise_level=noise_level)\n",
    "        for noise_level in noise_levels\n",
    "    ], ignore_index=True\n",
    ")\n",
    "random_val_per_noise[\"name\"] = random_val_per_noise[\"name\"].str.extract(r\"TerrierRetr\\((.*?)\\)\")\n",
    "random_val_per_noise.head(len(models))"
   ],
   "outputs": [],
   "execution_count": null
  },
  {
   "cell_type": "code",
   "source": [
    "plot_metric(random_val_per_noise, \"RR@10\", \"name\", \"Reciprocal Rank at 10 (RR@10)\", \"Retrieval Model\")\n",
    "plot_metric(random_val_per_noise, \"nDCG@10\", \"name\", \"Normalized Discounted Cumulative Gain at 10 (nDCG@10)\", \"Retrieval Model\")\n",
    "plot_metric(random_val_per_noise, \"AP@100\", \"name\", \"Average Precision at 100 (AP@100)\", \"Retrieval Model\")"
   ],
   "metadata": {
    "collapsed": false
   },
   "outputs": [],
   "execution_count": null
  },
  {
   "cell_type": "code",
   "source": [
    "keyboard_per_noise = pd.concat([\n",
    "        run_noise_experiment(test_queries, testset, \n",
    "                             nac.OcrAug(aug_char_p=0.25, aug_word_p=noise_level, aug_word_min=0, aug_word_max=500000),\n",
    "                             models, metrics).assign(noise_level=noise_level) \n",
    "    for noise_level in noise_levels], ignore_index=True\n",
    ")\n",
    "keyboard_per_noise[\"name\"] = keyboard_per_noise[\"name\"].str.extract(r\"TerrierRetr\\((.*?)\\)\")\n",
    "keyboard_per_noise.head(len(models))"
   ],
   "metadata": {
    "collapsed": false
   },
   "outputs": [],
   "execution_count": null
  },
  {
   "cell_type": "code",
   "source": [
    "plot_metric(keyboard_per_noise, \"RR@10\", \"name\", \"Reciprocal Rank at 10 (RR@10)\")\n",
    "plot_metric(keyboard_per_noise, \"nDCG@10\", \"name\", \"Normalized Discounted Cumulative Gain at 10 (nDCG@10)\")\n",
    "plot_metric(keyboard_per_noise, \"AP@100\", \"name\", \"Average Precision at 100 (AP@100)\")"
   ],
   "metadata": {
    "collapsed": false
   },
   "outputs": [],
   "execution_count": null
  }
 ],
 "metadata": {
  "kernelspec": {
   "display_name": "pyterrier_env",
   "language": "python",
   "name": "python3"
  },
  "language_info": {
   "codemirror_mode": {
    "name": "ipython",
    "version": 3
   },
   "file_extension": ".py",
   "mimetype": "text/x-python",
   "name": "python",
   "nbconvert_exporter": "python",
   "pygments_lexer": "ipython3",
   "version": "3.10.4"
  }
 },
 "nbformat": 4,
 "nbformat_minor": 2
}
