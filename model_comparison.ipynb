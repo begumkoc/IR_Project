{
 "cells": [
  {
   "cell_type": "code",
   "metadata": {
    "ExecuteTime": {
     "end_time": "2025-03-30T16:10:04.238705Z",
     "start_time": "2025-03-30T16:10:02.514829Z"
    }
   },
   "source": [
    "import pyterrier as pt\n",
    "import pandas as pd\n",
    "import numpy as np\n",
    "from pyterrier.measures import RR, nDCG, MAP\n",
    "\n",
    "import nlpaug.augmenter.char as nac\n",
    "import nlpaug.augmenter.word as naw\n",
    "import nlpaug.augmenter.sentence as nas\n",
    "import nlpaug.flow as naf\n",
    "\n",
    "from nlpaug.util import Action\n",
    "\n",
    "from common_helpers import *\n",
    "from plotting_helpers import *"
   ],
   "outputs": [],
   "execution_count": 1
  },
  {
   "metadata": {
    "ExecuteTime": {
     "end_time": "2025-03-30T16:10:04.591372Z",
     "start_time": "2025-03-30T16:10:04.240120Z"
    }
   },
   "cell_type": "code",
   "source": [
    "dataset_path = \"irds:beir/fiqa\"\n",
    "dataset = pt.get_dataset(dataset_path)\n",
    "testset = pt.get_dataset(dataset_path + \"/test\")\n",
    "test_queries = testset.get_topics()"
   ],
   "outputs": [
    {
     "name": "stderr",
     "output_type": "stream",
     "text": [
      "Java started (triggered by _pt_tokeniser) and loaded: pyterrier.java, pyterrier.terrier.java [version=5.11 (build: craig.macdonald 2025-01-13 21:29), helper_version=0.0.8]\n"
     ]
    }
   ],
   "execution_count": 2
  },
  {
   "cell_type": "code",
   "metadata": {
    "ExecuteTime": {
     "end_time": "2025-03-30T16:10:16.166730Z",
     "start_time": "2025-03-30T16:10:04.592650Z"
    }
   },
   "source": [
    "# Indexing documents\n",
    "from pathlib import Path\n",
    "\n",
    "indexer = pt.IterDictIndexer(\n",
    "    str(Path.cwd()),  # this will be ignored\n",
    "    type=pt.index.IndexingType.MEMORY,\n",
    ")\n",
    "index_ref = indexer.index(dataset.get_corpus_iter())"
   ],
   "outputs": [
    {
     "name": "stderr",
     "output_type": "stream",
     "text": [
      "beir/fiqa documents: 100%|██████████| 57638/57638 [00:11<00:00, 5120.56it/s]\n"
     ]
    },
    {
     "ename": "KeyboardInterrupt",
     "evalue": "",
     "output_type": "error",
     "traceback": [
      "\u001B[0;31m---------------------------------------------------------------------------\u001B[0m",
      "\u001B[0;31mKeyboardInterrupt\u001B[0m                         Traceback (most recent call last)",
      "Cell \u001B[0;32mIn[3], line 8\u001B[0m\n\u001B[1;32m      2\u001B[0m \u001B[38;5;28;01mfrom\u001B[39;00m\u001B[38;5;250m \u001B[39m\u001B[38;5;21;01mpathlib\u001B[39;00m\u001B[38;5;250m \u001B[39m\u001B[38;5;28;01mimport\u001B[39;00m Path\n\u001B[1;32m      4\u001B[0m indexer \u001B[38;5;241m=\u001B[39m pt\u001B[38;5;241m.\u001B[39mIterDictIndexer(\n\u001B[1;32m      5\u001B[0m     \u001B[38;5;28mstr\u001B[39m(Path\u001B[38;5;241m.\u001B[39mcwd()),  \u001B[38;5;66;03m# this will be ignored\u001B[39;00m\n\u001B[1;32m      6\u001B[0m     \u001B[38;5;28mtype\u001B[39m\u001B[38;5;241m=\u001B[39mpt\u001B[38;5;241m.\u001B[39mindex\u001B[38;5;241m.\u001B[39mIndexingType\u001B[38;5;241m.\u001B[39mMEMORY,\n\u001B[1;32m      7\u001B[0m )\n\u001B[0;32m----> 8\u001B[0m index_ref \u001B[38;5;241m=\u001B[39m \u001B[43mindexer\u001B[49m\u001B[38;5;241;43m.\u001B[39;49m\u001B[43mindex\u001B[49m\u001B[43m(\u001B[49m\u001B[43mdataset\u001B[49m\u001B[38;5;241;43m.\u001B[39;49m\u001B[43mget_corpus_iter\u001B[49m\u001B[43m(\u001B[49m\u001B[43m)\u001B[49m\u001B[43m)\u001B[49m\n",
      "File \u001B[0;32m~/.local/lib/python3.11/site-packages/pyterrier/utils.py:208\u001B[0m, in \u001B[0;36mpre_invocation_decorator.<locals>._decorator_wrapper.<locals>._wrapper\u001B[0;34m(*args, **kwargs)\u001B[0m\n\u001B[1;32m    205\u001B[0m \u001B[38;5;129m@wraps\u001B[39m(fn)\n\u001B[1;32m    206\u001B[0m \u001B[38;5;28;01mdef\u001B[39;00m\u001B[38;5;250m \u001B[39m\u001B[38;5;21m_wrapper\u001B[39m(\u001B[38;5;241m*\u001B[39margs, \u001B[38;5;241m*\u001B[39m\u001B[38;5;241m*\u001B[39mkwargs):\n\u001B[1;32m    207\u001B[0m     decorator(fn)\n\u001B[0;32m--> 208\u001B[0m     \u001B[38;5;28;01mreturn\u001B[39;00m \u001B[43mfn\u001B[49m\u001B[43m(\u001B[49m\u001B[38;5;241;43m*\u001B[39;49m\u001B[43margs\u001B[49m\u001B[43m,\u001B[49m\u001B[43m \u001B[49m\u001B[38;5;241;43m*\u001B[39;49m\u001B[38;5;241;43m*\u001B[39;49m\u001B[43mkwargs\u001B[49m\u001B[43m)\u001B[49m\n",
      "File \u001B[0;32m~/.local/lib/python3.11/site-packages/pyterrier/terrier/index.py:766\u001B[0m, in \u001B[0;36m_IterDictIndexer_fifo.index\u001B[0;34m(self, it, fields)\u001B[0m\n\u001B[1;32m    764\u001B[0m     indexer\u001B[38;5;241m.\u001B[39mindexDocuments(j_collections)\n\u001B[1;32m    765\u001B[0m \u001B[38;5;28;01melse\u001B[39;00m:\n\u001B[0;32m--> 766\u001B[0m     \u001B[43mindexer\u001B[49m\u001B[38;5;241;43m.\u001B[39;49m\u001B[43mindex\u001B[49m\u001B[43m(\u001B[49m\u001B[43mj_collections\u001B[49m\u001B[43m)\u001B[49m\n\u001B[1;32m    767\u001B[0m \u001B[38;5;28;01mfor\u001B[39;00m hook \u001B[38;5;129;01min\u001B[39;00m \u001B[38;5;28mself\u001B[39m\u001B[38;5;241m.\u001B[39mcleanup_hooks:\n\u001B[1;32m    768\u001B[0m     hook(\u001B[38;5;28mself\u001B[39m, indexer\u001B[38;5;241m.\u001B[39mgetIndex())\n",
      "File \u001B[0;32mjnius/jnius_export_class.pxi:1163\u001B[0m, in \u001B[0;36mjnius.JavaMultipleMethod.__call__\u001B[0;34m()\u001B[0m\n",
      "File \u001B[0;32mjnius/jnius_export_class.pxi:879\u001B[0m, in \u001B[0;36mjnius.JavaMethod.__call__\u001B[0;34m()\u001B[0m\n",
      "File \u001B[0;32mjnius/jnius_conversion.pxi:27\u001B[0m, in \u001B[0;36mjnius.release_args\u001B[0;34m()\u001B[0m\n",
      "File \u001B[0;32mjnius/jnius_conversion.pxi:352\u001B[0m, in \u001B[0;36mjnius.convert_jarray_to_python\u001B[0;34m()\u001B[0m\n",
      "File \u001B[0;32mjnius/jnius_conversion.pxi:232\u001B[0m, in \u001B[0;36mjnius.convert_jobject_to_python\u001B[0;34m()\u001B[0m\n",
      "File \u001B[0;32m<frozen importlib._bootstrap>:405\u001B[0m, in \u001B[0;36mparent\u001B[0;34m(self)\u001B[0m\n",
      "\u001B[0;31mKeyboardInterrupt\u001B[0m: "
     ]
    }
   ],
   "execution_count": 3
  },
  {
   "metadata": {},
   "cell_type": "code",
   "source": [
    "bm25 = pt.terrier.Retriever(index_ref, wmodel=\"BM25\")\n",
    "dir = pt.terrier.Retriever(index_ref, wmodel=\"DirichletLM\")\n",
    "pl2 = pt.terrier.Retriever(index_ref, wmodel=\"PL2\")\n",
    "dfree = pt.terrier.Retriever(index_ref, wmodel=\"DFReeKLIM\")\n",
    "\n",
    "models = [bm25, dfree, pl2, dir]\n",
    "metrics = [RR @ 10, nDCG @ 10, MAP @ 100]\n",
    "noise_levels = np.arange(0.0, 1.1, 0.1)"
   ],
   "outputs": [],
   "execution_count": null
  },
  {
   "cell_type": "code",
   "metadata": {},
   "source": [
    "random_val_per_noise = pd.concat([\n",
    "        run_noise_experiment(test_queries, testset,\n",
    "                             nac.OcrAug(aug_char_p=0.25, aug_word_p=noise_level, aug_word_min=0, aug_word_max=500000),\n",
    "                             models, metrics).assign(noise_level=noise_level)\n",
    "        for noise_level in noise_levels\n",
    "    ], ignore_index=True\n",
    ")\n",
    "random_val_per_noise[\"name\"] = random_val_per_noise[\"name\"].str.extract(r\"TerrierRetr\\((.*?)\\)\")\n",
    "random_val_per_noise.head(len(models))"
   ],
   "outputs": [],
   "execution_count": null
  },
  {
   "cell_type": "code",
   "source": [
    "plot_metric(random_val_per_noise, \"RR@10\", \"name\", \"Reciprocal Rank at 10 (RR@10)\", \"Retrieval Model\")\n",
    "plot_metric(random_val_per_noise, \"nDCG@10\", \"name\", \"Normalized Discounted Cumulative Gain at 10 (nDCG@10)\", \"Retrieval Model\")\n",
    "plot_metric(random_val_per_noise, \"AP@100\", \"name\", \"Average Precision at 100 (AP@100)\", \"Retrieval Model\")"
   ],
   "metadata": {
    "collapsed": false
   },
   "outputs": [],
   "execution_count": null
  },
  {
   "cell_type": "code",
   "source": [
    "keyboard_per_noise = pd.concat([\n",
    "        run_noise_experiment(test_queries, testset, \n",
    "                             nac.OcrAug(aug_char_p=0.25, aug_word_p=noise_level, aug_word_min=0, aug_word_max=500000),\n",
    "                             models, metrics).assign(noise_level=noise_level) \n",
    "    for noise_level in noise_levels], ignore_index=True\n",
    ")\n",
    "keyboard_per_noise[\"name\"] = keyboard_per_noise[\"name\"].str.extract(r\"TerrierRetr\\((.*?)\\)\")\n",
    "keyboard_per_noise.head(len(models))"
   ],
   "metadata": {
    "collapsed": false
   },
   "outputs": [],
   "execution_count": null
  },
  {
   "cell_type": "code",
   "source": [
    "plot_metric(keyboard_per_noise, \"RR@10\", \"name\", \"Reciprocal Rank at 10 (RR@10)\")\n",
    "plot_metric(keyboard_per_noise, \"nDCG@10\", \"name\", \"Normalized Discounted Cumulative Gain at 10 (nDCG@10)\")\n",
    "plot_metric(keyboard_per_noise, \"AP@100\", \"name\", \"Average Precision at 100 (AP@100)\")"
   ],
   "metadata": {
    "collapsed": false
   },
   "outputs": [],
   "execution_count": null
  }
 ],
 "metadata": {
  "kernelspec": {
   "display_name": "pyterrier_env",
   "language": "python",
   "name": "python3"
  },
  "language_info": {
   "codemirror_mode": {
    "name": "ipython",
    "version": 3
   },
   "file_extension": ".py",
   "mimetype": "text/x-python",
   "name": "python",
   "nbconvert_exporter": "python",
   "pygments_lexer": "ipython3",
   "version": "3.10.4"
  }
 },
 "nbformat": 4,
 "nbformat_minor": 2
}
